{
 "cells": [
  {
   "cell_type": "code",
   "execution_count": null,
   "metadata": {
    "collapsed": true
   },
   "outputs": [],
   "source": [
    "import numpy as np\n",
    "from numpy.random import RandomState\n",
    "prng = RandomState(20150101)\n",
    "import timeit\n",
    "from vispy import app, gloo"
   ]
  },
  {
   "cell_type": "code",
   "execution_count": null,
   "metadata": {
    "collapsed": false
   },
   "outputs": [],
   "source": [
    "app.use_app('ipynb_webgl')"
   ]
  },
  {
   "cell_type": "code",
   "execution_count": null,
   "metadata": {
    "collapsed": true
   },
   "outputs": [],
   "source": [
    "vertex_code = \"\"\"\n",
    "attribute vec4 a_position;\n",
    "void main () {\n",
    "    gl_Position = a_position;\n",
    "    gl_PointSize = 1.;\n",
    "}\n",
    "\"\"\"\n",
    "\n",
    "fragment_code = \"\"\"\n",
    "void main()\n",
    "{\n",
    "    gl_FragColor = vec4(1,1,1,1);\n",
    "}\n",
    "\"\"\""
   ]
  },
  {
   "cell_type": "code",
   "execution_count": null,
   "metadata": {
    "collapsed": true
   },
   "outputs": [],
   "source": [
    "class Canvas(app.Canvas):\n",
    "    def __init__(self):\n",
    "        app.Canvas.__init__(self, size=(400, 400), keys='interactive')\n",
    "        #self.timer = app.Timer(1, self.on_timer, start=True)\n",
    "        #self.times = []\n",
    "\n",
    "    def on_initialize(self, event):\n",
    "        self.program = gloo.Program(vertex_code, fragment_code)\n",
    "\n",
    "        n = 1000000\n",
    "        self.data = np.zeros((n, 4), dtype=np.float32)\n",
    "        self.data[:, :2] = .15 * prng.randn(n, 2)\n",
    "        self.data[:, 3] = 1.\n",
    "        self.program['a_position'] = self.data\n",
    "\n",
    "        gloo.clear((0, 0, 0, 1))\n",
    "\n",
    "    def on_draw(self, event):\n",
    "        gloo.clear()\n",
    "        print(\"paint\")\n",
    "        self.program.draw('points')\n",
    "\n",
    "    #def on_timer(self, event):\n",
    "    #    self.update()\n",
    "\n",
    "    def on_resize(self, event):\n",
    "        gloo.set_viewport(0, 0, *event.size)"
   ]
  },
  {
   "cell_type": "raw",
   "metadata": {
    "collapsed": true
   },
   "source": [
    "def compute_fps(times):\n",
    "    times = np.array(times)\n",
    "    fps1 = len(times) / (times[-1] - times[0])\n",
    "    fps2 = 1 / np.median(np.diff(times))\n",
    "    return (fps1, fps2)"
   ]
  },
  {
   "cell_type": "code",
   "execution_count": null,
   "metadata": {
    "collapsed": false
   },
   "outputs": [],
   "source": [
    "c = Canvas()\n",
    "c.show()"
   ]
  },
  {
   "cell_type": "code",
   "execution_count": null,
   "metadata": {
    "collapsed": false
   },
   "outputs": [],
   "source": [
    "%%javascript\n",
    "// TODO: register frame number\n",
    "var canvas = vispy._canvases[0];\n",
    "canvas.on_paint(function (e) {\n",
    "    // Finished painting.\n",
    "    canvas.gl.flush();\n",
    "    canvas.gl.finish();\n",
    "    console.timeEnd('paint');\n",
    "});\n",
    "window._timer = window.setInterval(function () {\n",
    "    console.time('paint');\n",
    "    canvas.update();\n",
    "}, 100);"
   ]
  },
  {
   "cell_type": "code",
   "execution_count": null,
   "metadata": {
    "collapsed": false
   },
   "outputs": [],
   "source": [
    "%%javascript\n",
    "window.clearInterval(window._timer)"
   ]
  }
 ],
 "metadata": {
  "kernelspec": {
   "display_name": "IPython (Python 3)",
   "name": "python3"
  },
  "language_info": {
   "codemirror_mode": {
    "name": "ipython",
    "version": 3
   },
   "file_extension": ".py",
   "mimetype": "text/x-python",
   "name": "python",
   "nbconvert_exporter": "python",
   "pygments_lexer": "ipython3",
   "version": "3.4.2"
  },
  "signature": "sha256:e9c91cbc297033544ac99662a49aa6a9547c8b9c3c9c97ecaa176c777872dd62"
 },
 "nbformat": 4,
 "nbformat_minor": 0
}